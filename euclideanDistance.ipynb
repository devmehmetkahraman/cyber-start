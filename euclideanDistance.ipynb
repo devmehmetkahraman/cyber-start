{
  "nbformat": 4,
  "nbformat_minor": 0,
  "metadata": {
    "colab": {
      "provenance": [],
      "authorship_tag": "ABX9TyOL9T5wwmoKhRIGAqi6uEEA",
      "include_colab_link": true
    },
    "kernelspec": {
      "name": "python3",
      "display_name": "Python 3"
    },
    "language_info": {
      "name": "python"
    }
  },
  "cells": [
    {
      "cell_type": "markdown",
      "metadata": {
        "id": "view-in-github",
        "colab_type": "text"
      },
      "source": [
        "<a href=\"https://colab.research.google.com/github/devmehmetkahraman/cyber-start/blob/main/euclideanDistance.ipynb\" target=\"_parent\"><img src=\"https://colab.research.google.com/assets/colab-badge.svg\" alt=\"Open In Colab\"/></a>"
      ]
    },
    {
      "cell_type": "code",
      "execution_count": 1,
      "metadata": {
        "colab": {
          "base_uri": "https://localhost:8080/"
        },
        "id": "_e6NR9ByRlv7",
        "outputId": "905b4456-3166-4a7e-a9aa-18b4b848ddb4"
      },
      "outputs": [
        {
          "output_type": "stream",
          "name": "stdout",
          "text": [
            "Minimum distance: 2.8284271247461903\n"
          ]
        }
      ],
      "source": [
        "import math\n",
        "\n",
        "def euclideanDistance(**points):\n",
        "\n",
        "  distances = []\n",
        "  min_distance = float('inf')\n",
        "  point_values = list(points.values())\n",
        "\n",
        "  for i in range(len(point_values)):\n",
        "    for j in range(i + 1, len(point_values)):\n",
        "\n",
        "      point1 = point_values[i]\n",
        "      point2 = point_values[j]\n",
        "      distance = math.sqrt((point2[0] - point1[0])**2 + (point2[1] - point1[1])**2)\n",
        "      distances.append(distance)\n",
        "      min_distance = min(distances)\n",
        "  return min_distance\n",
        "\n",
        "min_distance = euclideanDistance(point1=(1, 2), point2=(3, 4), point3=(5, 6))\n",
        "print(f\"Minimum distance: {min_distance}\")"
      ]
    }
  ]
}